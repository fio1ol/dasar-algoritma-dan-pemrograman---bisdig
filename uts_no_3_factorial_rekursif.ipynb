{
  "nbformat": 4,
  "nbformat_minor": 0,
  "metadata": {
    "colab": {
      "provenance": [],
      "authorship_tag": "ABX9TyOkXWl29oLHgHfsqSdwbP7z",
      "include_colab_link": true
    },
    "kernelspec": {
      "name": "python3",
      "display_name": "Python 3"
    },
    "language_info": {
      "name": "python"
    }
  },
  "cells": [
    {
      "cell_type": "markdown",
      "metadata": {
        "id": "view-in-github",
        "colab_type": "text"
      },
      "source": [
        "<a href=\"https://colab.research.google.com/github/fio1ol/dasar-algoritma-dan-pemrograman---bisdig/blob/main/factorial.ipynb\" target=\"_parent\"><img src=\"https://colab.research.google.com/assets/colab-badge.svg\" alt=\"Open In Colab\"/></a>"
      ]
    },
    {
      "cell_type": "code",
      "execution_count": 1,
      "metadata": {
        "colab": {
          "base_uri": "https://localhost:8080/"
        },
        "id": "Owmx8R3sHg4v",
        "outputId": "e14b485e-f30f-46b9-9396-110903f018ca"
      },
      "outputs": [
        {
          "output_type": "stream",
          "name": "stdout",
          "text": [
            "Masukkan angka bulat non-negatif: 3\n",
            "Faktorial dari 3 adalah 6\n"
          ]
        }
      ],
      "source": [
        "def factorial(n):\n",
        "    if n == 0:\n",
        "        return 1\n",
        "    else:\n",
        "        return n * factorial(n - 1)\n",
        "\n",
        "# Minta input dari user\n",
        "try:\n",
        "    angka = int(input(\"Masukkan angka bulat non-negatif: \"))\n",
        "    if angka < 0:\n",
        "        print(\"Maaf, faktorial hanya bisa untuk angka non-negatif.\")\n",
        "    else:\n",
        "        hasil = factorial(angka)\n",
        "        print(f\"Faktorial dari {angka} adalah {hasil}\")\n",
        "except ValueError:\n",
        "    print(\"Input tidak valid! Harus berupa angka bulat.\")"
      ]
    }
  ]
}

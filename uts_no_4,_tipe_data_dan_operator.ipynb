{
  "nbformat": 4,
  "nbformat_minor": 0,
  "metadata": {
    "colab": {
      "provenance": [],
      "authorship_tag": "ABX9TyMUsBTf29gAdU+HiEzf4eOX",
      "include_colab_link": true
    },
    "kernelspec": {
      "name": "python3",
      "display_name": "Python 3"
    },
    "language_info": {
      "name": "python"
    }
  },
  "cells": [
    {
      "cell_type": "markdown",
      "metadata": {
        "id": "view-in-github",
        "colab_type": "text"
      },
      "source": [
        "<a href=\"https://colab.research.google.com/github/fio1ol/dasar-algoritma-dan-pemrograman---bisdig/blob/main/no_3%2C_nilai_siswa.ipynb\" target=\"_parent\"><img src=\"https://colab.research.google.com/assets/colab-badge.svg\" alt=\"Open In Colab\"/></a>"
      ]
    },
    {
      "cell_type": "code",
      "execution_count": 2,
      "metadata": {
        "colab": {
          "base_uri": "https://localhost:8080/"
        },
        "id": "px5FxBpiMmG9",
        "outputId": "050c6409-d1f0-46a3-da69-18b24c741bb1"
      },
      "outputs": [
        {
          "output_type": "stream",
          "name": "stdout",
          "text": [
            "Masukkan nilai mata pelajaran pertama: 80\n",
            "Masukkan nilai mata pelajaran kedua: 81\n",
            "Masukkan nilai mata pelajaran ketiga: 78\n",
            "Rata-rata nilai: 79.67\n",
            "Status kelulusan: Lulus\n"
          ]
        }
      ],
      "source": [
        "# Input nilai tiga mata pelajaran\n",
        "nilai1 = float(input(\"Masukkan nilai mata pelajaran pertama: \"))\n",
        "nilai2 = float(input(\"Masukkan nilai mata pelajaran kedua: \"))\n",
        "nilai3 = float(input(\"Masukkan nilai mata pelajaran ketiga: \"))\n",
        "\n",
        "# Hitung rata-rata\n",
        "rata_rata = (nilai1 + nilai2 + nilai3) / 3\n",
        "\n",
        "# Tentukan status kelulusan\n",
        "if rata_rata > 75:\n",
        "    status = \"Lulus\"\n",
        "else:\n",
        "    status = \"Tidak Lulus\"\n",
        "\n",
        "# Tampilkan hasil\n",
        "print(f\"Rata-rata nilai: {rata_rata:.2f}\")\n",
        "print(f\"Status kelulusan: {status}\")"
      ]
    }
  ]
}

{
  "nbformat": 4,
  "nbformat_minor": 0,
  "metadata": {
    "colab": {
      "provenance": [],
      "authorship_tag": "ABX9TyMqw4wpcBIIV3AldffV1ezM",
      "include_colab_link": true
    },
    "kernelspec": {
      "name": "python3",
      "display_name": "Python 3"
    },
    "language_info": {
      "name": "python"
    }
  },
  "cells": [
    {
      "cell_type": "markdown",
      "metadata": {
        "id": "view-in-github",
        "colab_type": "text"
      },
      "source": [
        "<a href=\"https://colab.research.google.com/github/fio1ol/dasar-algoritma-dan-pemrograman---bisdig/blob/main/no_5%2C_sistem_e_commerce.ipynb\" target=\"_parent\"><img src=\"https://colab.research.google.com/assets/colab-badge.svg\" alt=\"Open In Colab\"/></a>"
      ]
    },
    {
      "cell_type": "code",
      "execution_count": 7,
      "metadata": {
        "colab": {
          "base_uri": "https://localhost:8080/"
        },
        "id": "NHiGfyJsOwox",
        "outputId": "45ead4b1-5c2a-4743-f23d-f6568e03f361"
      },
      "outputs": [
        {
          "output_type": "stream",
          "name": "stdout",
          "text": [
            "Masukkan total belanja: Rp1000000\n",
            "Diskon yang didapat: Rp100000.00\n",
            "Total yang harus dibayar: Rp900000.00\n"
          ]
        }
      ],
      "source": [
        "# Input total belanja\n",
        "total_belanja = float(input(\"Masukkan total belanja: Rp\"))\n",
        "\n",
        "# Cek apakah belanja lebih dari 500.000\n",
        "if total_belanja > 500000:\n",
        "    diskon = total_belanja * 0.10\n",
        "else:\n",
        "    diskon = 0\n",
        "\n",
        "# Hitung total bayar setelah diskon\n",
        "total_bayar = total_belanja - diskon\n",
        "\n",
        "# Tampilkan hasil\n",
        "print(f\"Diskon yang didapat: Rp{diskon:.2f}\")\n",
        "print(f\"Total yang harus dibayar: Rp{total_bayar:.2f}\")"
      ]
    }
  ]
}

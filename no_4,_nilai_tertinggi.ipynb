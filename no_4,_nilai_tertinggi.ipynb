{
  "nbformat": 4,
  "nbformat_minor": 0,
  "metadata": {
    "colab": {
      "provenance": [],
      "authorship_tag": "ABX9TyN7AHwW0OkAb4brpMgkL5t4",
      "include_colab_link": true
    },
    "kernelspec": {
      "name": "python3",
      "display_name": "Python 3"
    },
    "language_info": {
      "name": "python"
    }
  },
  "cells": [
    {
      "cell_type": "markdown",
      "metadata": {
        "id": "view-in-github",
        "colab_type": "text"
      },
      "source": [
        "<a href=\"https://colab.research.google.com/github/fio1ol/dasar-algoritma-dan-pemrograman---bisdig/blob/main/no_4%2C_nilai_tertinggi.ipynb\" target=\"_parent\"><img src=\"https://colab.research.google.com/assets/colab-badge.svg\" alt=\"Open In Colab\"/></a>"
      ]
    },
    {
      "cell_type": "code",
      "execution_count": 1,
      "metadata": {
        "colab": {
          "base_uri": "https://localhost:8080/"
        },
        "id": "PbXQHWZuOE6K",
        "outputId": "0a649048-7c51-424a-8670-74ca28e6f196"
      },
      "outputs": [
        {
          "output_type": "stream",
          "name": "stdout",
          "text": [
            "Masukkan nilai siswa ke-1: 75\n",
            "Masukkan nilai siswa ke-2: 70\n",
            "Masukkan nilai siswa ke-3: 80\n",
            "Masukkan nilai siswa ke-4: 85\n",
            "Masukkan nilai siswa ke-5: 90\n",
            "Nilai tertinggi adalah 90.0 yang diperoleh oleh siswa ke-5.\n"
          ]
        }
      ],
      "source": [
        "# List kosong untuk menyimpan nilai siswa\n",
        "nilai_siswa = []\n",
        "\n",
        "# Input nilai untuk 5 siswa menggunakan perulangan\n",
        "for i in range(5):\n",
        "    nilai = float(input(f\"Masukkan nilai siswa ke-{i+1}: \"))\n",
        "    nilai_siswa.append(nilai)\n",
        "\n",
        "# Cari nilai tertinggi dan indeksnya\n",
        "nilai_tertinggi = max(nilai_siswa)\n",
        "index_tertinggi = nilai_siswa.index(nilai_tertinggi) + 1  # +1 supaya siswa ke-1 bukan ke-0\n",
        "\n",
        "# Tampilkan hasil\n",
        "print(f\"Nilai tertinggi adalah {nilai_tertinggi} yang diperoleh oleh siswa ke-{index_tertinggi}.\")"
      ]
    }
  ]
}
{
  "nbformat": 4,
  "nbformat_minor": 0,
  "metadata": {
    "colab": {
      "provenance": [],
      "authorship_tag": "ABX9TyOYm9XJFb+/eE3Krq9JjcI1",
      "include_colab_link": true
    },
    "kernelspec": {
      "name": "python3",
      "display_name": "Python 3"
    },
    "language_info": {
      "name": "python"
    }
  },
  "cells": [
    {
      "cell_type": "markdown",
      "metadata": {
        "id": "view-in-github",
        "colab_type": "text"
      },
      "source": [
        "<a href=\"https://colab.research.google.com/github/fio1ol/dasar-algoritma-dan-pemrograman---bisdig/blob/main/no_2%2C_harga_barang.ipynb\" target=\"_parent\"><img src=\"https://colab.research.google.com/assets/colab-badge.svg\" alt=\"Open In Colab\"/></a>"
      ]
    },
    {
      "cell_type": "code",
      "execution_count": 1,
      "metadata": {
        "colab": {
          "base_uri": "https://localhost:8080/"
        },
        "id": "TGEEZRBIH0rV",
        "outputId": "3b8edf6c-0008-49fc-d267-467bfdc45a21"
      },
      "outputs": [
        {
          "output_type": "stream",
          "name": "stdout",
          "text": [
            "Masukkan harga barang pertama: 15000\n",
            "Masukkan harga barang kedua: 20000\n",
            "Masukkan harga barang ketiga: 10000\n",
            "Total harga yang harus dibayar adalah: Rp45000.00\n"
          ]
        }
      ],
      "source": [
        "harga1 = float(input(\"Masukkan harga barang pertama: \"))\n",
        "harga2 = float(input(\"Masukkan harga barang kedua: \"))\n",
        "harga3 = float(input(\"Masukkan harga barang ketiga: \"))\n",
        "\n",
        "total = harga1 + harga2 + harga3\n",
        "\n",
        "print(f\"Total harga yang harus dibayar adalah: Rp{total:.2f}\")"
      ]
    }
  ]
}
